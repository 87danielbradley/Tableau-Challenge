{
 "cells": [
  {
   "cell_type": "code",
   "execution_count": 1,
   "metadata": {},
   "outputs": [],
   "source": [
    "import pandas as pd\n",
    "\n",
    "#2015 onwards I approximated daily annual member sign-ups by suptracting total members yesterday from total members today"
   ]
  },
  {
   "cell_type": "code",
   "execution_count": 77,
   "metadata": {},
   "outputs": [],
   "source": [
    "tripData=[\"JC-201812-citibike-tripdata\",\"JC-201901-citibike-tripdata\",\"JC-201902-citibike-tripdata\",\"JC-201903-citibike-tripdata\",\"JC-201904-citibike-tripdata\",\"JC-201905-citibike-tripdata\",\"JC-201906-citibike-tripdata\",\"JC-201907-citibike-tripdata\",\"JC-201908-citibike-tripdata\",\"JC-201909-citibike-tripdata\",\"JC-201910-citibike-tripdata\",\"JC-201911-citibike-tripdata\",\"JC-201912-citibike-tripdata\",\"JC-202001-citibike-tripdata\",\"JC-202002-citibike-tripdata\",\"JC-202003-citibike-tripdata\",\"JC-202004-citibike-tripdata\",\"JC-202005-citibike-tripdata\"]\n",
    "\n",
    "csvFiles = [\"data-pe6k4\",\"data-0FwJZ\",\"data-SGjhr\",\"data-dhq4m\",\"data-0Si1U\",\"data-1hJ2T\",\"data-jMx9R\",\"data-xEsQz\",\"data-dVCP4\",\"data-rreHM\",\"data-8eZnB\",\"data-xXpEp\",\"data-gRmSF\",\"data-9KAuN\",\"data-Whjsi\",\"data-33zqP\",\"data-K8j0z\",\"data-7OLX8\",\"data-tqNn6\",\"data-FKjZg\",\"data-pRAtm\",\"data-cZMp8\",\"data-MM5kM\"]"
   ]
  },
  {
   "cell_type": "code",
   "execution_count": 79,
   "metadata": {},
   "outputs": [],
   "source": [
    "trip_df = pd.DataFrame({})\n",
    "\n",
    "column_names = []\n",
    "for i in range(0,len(tripData)):\n",
    "    new_df= pd.read_csv(\"CustomerData/\"+tripData[i]+\".csv\")\n",
    "\n",
    "    trip_df = pd.concat([trip_df,new_df])\n",
    "    "
   ]
  },
  {
   "cell_type": "code",
   "execution_count": 82,
   "metadata": {},
   "outputs": [],
   "source": [
    "trip_df.to_csv(\"CustomerData/tripData.csv\")"
   ]
  },
  {
   "cell_type": "code",
   "execution_count": null,
   "metadata": {},
   "outputs": [],
   "source": []
  },
  {
   "cell_type": "code",
   "execution_count": null,
   "metadata": {},
   "outputs": [],
   "source": []
  },
  {
   "cell_type": "code",
   "execution_count": 72,
   "metadata": {},
   "outputs": [
    {
     "name": "stderr",
     "output_type": "stream",
     "text": [
      "C:\\Users\\chand\\Anaconda3\\lib\\site-packages\\ipykernel_launcher.py:18: FutureWarning: Sorting because non-concatenation axis is not aligned. A future version\n",
      "of pandas will change to not sort by default.\n",
      "\n",
      "To accept the future behavior, pass 'sort=False'.\n",
      "\n",
      "To retain the current behavior and silence the warning, pass 'sort=True'.\n",
      "\n"
     ]
    }
   ],
   "source": [
    "main_df = pd.DataFrame({})\n",
    "\n",
    "column_names = []\n",
    "for i in range(0,len(csvFiles)):\n",
    "    new_df= pd.read_csv(csvFiles[i]+\".csv\")\n",
    "#     new_df_columns = new_df.columns\n",
    "\n",
    "        \n",
    "#     print(new_df_columns)\n",
    "#     new_df=new_df.rename(columns={\"Date\":\"Date\",\n",
    "#     new_df_columns[0]:\"Trip Past 24-hours\",\n",
    "#     new_df_columns[1]:\"Cumulative trips\",\n",
    "#     new_df_columns[2]:\"Miles today\",\n",
    "#     new_df_columns[3]:\"Miles to date\",\n",
    "#     new_df_columns[4]:\"Total Annual Members\",\n",
    "#     new_df_columns[5]:\"New Annual Members\",\n",
    "#     new_df_columns[6]:\"Temporary Passes Purchased\"})\n",
    "    main_df = pd.concat([main_df,new_df])\n",
    "    "
   ]
  },
  {
   "cell_type": "code",
   "execution_count": 75,
   "metadata": {},
   "outputs": [],
   "source": [
    "main_df.drop(columns=['Column 1']).to_csv(\"cleaning.csv\",index=False)"
   ]
  },
  {
   "cell_type": "code",
   "execution_count": 42,
   "metadata": {},
   "outputs": [],
   "source": [
    "main_df.sort_values(['Date']).reset_index(drop=True).to_csv('delete.csv')"
   ]
  },
  {
   "cell_type": "code",
   "execution_count": 65,
   "metadata": {},
   "outputs": [
    {
     "name": "stdout",
     "output_type": "stream",
     "text": [
      "8\n",
      "9\n",
      "9\n",
      "6\n",
      "9\n",
      "6\n",
      "6\n",
      "6\n",
      "9\n",
      "8\n",
      "6\n",
      "8\n",
      "8\n",
      "6\n",
      "7\n",
      "9\n",
      "6\n",
      "8\n",
      "9\n",
      "6\n",
      "6\n",
      "8\n",
      "8\n"
     ]
    }
   ],
   "source": [
    "\n",
    "LoD = []\n",
    "LoDates=[]\n",
    "for i in range(0,len(csvFiles)):\n",
    "    new_df= pd.read_csv(csvFiles[i]+\".csv\")\n",
    "    myDict = new_df.columns\n",
    "    LoD.append(myDict)\n",
    "    LoDates.append(new_df.Date[i])\n",
    "    print(len(myDict))"
   ]
  },
  {
   "cell_type": "code",
   "execution_count": 59,
   "metadata": {},
   "outputs": [],
   "source": [
    "pd.DataFrame(LoD).to_csv('delete.csv')"
   ]
  },
  {
   "cell_type": "code",
   "execution_count": 67,
   "metadata": {},
   "outputs": [],
   "source": [
    "df = pd.DataFrame(LoD)\n",
    "df['fileName']=csvFiles\n",
    "df['dates']=LoDates\n",
    "df.to_csv('delete.csv')"
   ]
  },
  {
   "cell_type": "code",
   "execution_count": 64,
   "metadata": {},
   "outputs": [
    {
     "data": {
      "text/plain": [
       "'7/1/16'"
      ]
     },
     "execution_count": 64,
     "metadata": {},
     "output_type": "execute_result"
    }
   ],
   "source": [
    "new_df.Date[0]"
   ]
  },
  {
   "cell_type": "code",
   "execution_count": 69,
   "metadata": {},
   "outputs": [],
   "source": []
  },
  {
   "cell_type": "code",
   "execution_count": 71,
   "metadata": {},
   "outputs": [
    {
     "data": {
      "text/plain": [
       "pandas.core.frame.DataFrame"
      ]
     },
     "execution_count": 71,
     "metadata": {},
     "output_type": "execute_result"
    }
   ],
   "source": []
  },
  {
   "cell_type": "code",
   "execution_count": null,
   "metadata": {},
   "outputs": [],
   "source": []
  }
 ],
 "metadata": {
  "kernelspec": {
   "display_name": "Python 3.7.1 64-bit ('chand': virtualenv)",
   "language": "python",
   "name": "python37164bitchandvirtualenv9dc6a78812824289974a0a4aa2dbb22b"
  },
  "language_info": {
   "codemirror_mode": {
    "name": "ipython",
    "version": 3
   },
   "file_extension": ".py",
   "mimetype": "text/x-python",
   "name": "python",
   "nbconvert_exporter": "python",
   "pygments_lexer": "ipython3",
   "version": "3.7.1"
  }
 },
 "nbformat": 4,
 "nbformat_minor": 2
}
